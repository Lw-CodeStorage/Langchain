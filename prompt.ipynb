{
 "cells": [
  {
   "cell_type": "code",
   "execution_count": 8,
   "metadata": {},
   "outputs": [],
   "source": [
    "from langchain_ollama import ChatOllama\n"
   ]
  },
  {
   "cell_type": "code",
   "execution_count": 35,
   "metadata": {},
   "outputs": [],
   "source": [
    "from langchain_core.messages import HumanMessage, SystemMessage\n",
    "messages = [\n",
    "    SystemMessage(content=\"\"\"你是一個專門處理資料的AI助理\n",
    "                            1.輸出使用json封裝\n",
    "                            2.json 格式使用'{key:問題,value:答案}'的方式封裝\n",
    "                            2.使用繁體中文回答\"\"\"),\n",
    "    HumanMessage(content=\"給我一些關於langchain的研究\"),\n",
    "]"
   ]
  },
  {
   "cell_type": "code",
   "execution_count": 36,
   "metadata": {},
   "outputs": [
    {
     "data": {
      "text/plain": [
       "'{\"key\": \"LangChain\", \"value\": \"LangChain是一個基於Python的開源框架，旨在幫助開發者創建自定義的語言模型和知識圖譜。它提供了一系列工具和功能，讓使用者可以輕鬆地構建、訓練和部署自己的語言模型。\"}\\n\\n{\"key\": \"LangChain 的優點\", \"value\": \" LangChain 的優點包括：1. 支持多種語言模型架構；2. 提供強大的知識圖譜功能；3. 支援自定義的語言模型訓練和部署；4. 具有高效的性能和可擴展性。\"}\\n\\n{\"key\": \"LangChain 的應用\", \"value\": \" LangChain 可以用於多種應用，例如：1. 自動客服系統；2. 知識圖譜建模；3. 文字生成和摘要；4. 信息檢索和推薦等。\"}'"
      ]
     },
     "execution_count": 36,
     "metadata": {},
     "output_type": "execute_result"
    }
   ],
   "source": [
    "llm = ChatOllama(\n",
    "    base_url=\"http://localhost:11434\",\n",
    "    model=\"llama3.1\",\n",
    "    temperature=0,\n",
    "    # other params...\n",
    ")\n",
    "llm.invoke(messages).content"
   ]
  },
  {
   "cell_type": "markdown",
   "metadata": {},
   "source": [
    "### stream + prmopt"
   ]
  },
  {
   "cell_type": "code",
   "execution_count": 57,
   "metadata": {},
   "outputs": [
    {
     "name": "stdout",
     "output_type": "stream",
     "text": [
      "我叫EQP 専屬 AI Assistant。很高興遇到你！ (That's \"My name is EQP専屬AIAssistant.\" in Chinese. I'm glad to meet you!)"
     ]
    }
   ],
   "source": [
    "from langchain_core.messages import HumanMessage, SystemMessage,AIMessage\n",
    "from langchain_core.prompts import HumanMessagePromptTemplate,SystemMessagePromptTemplate,AIMessagePromptTemplate\n",
    "from langchain_core.prompts import ChatPromptTemplate\n",
    "from langchain_core.output_parsers import StrOutputParser\n",
    "\n",
    "\n",
    "''' \n",
    "from_template 一段文字的prompt\n",
    "from_message 一段對話的prompt\n",
    "prompt2.invoke({\"name\":\"Leo\",\"user_input\":\"你的名子是什麼?\"}) 執行invoke可以看出產出的結果\n",
    "'''\n",
    "prompt = ChatPromptTemplate.from_template(\"給我一篇文章文字在100字以內,主題是:{topic}\")\n",
    "prompt1 = ChatPromptTemplate.from_messages([\n",
    "    (\"system\", \"You are a helpful AI bot. Your name is {name}.\"),\n",
    "    (\"human\", \"Hello, how are you doing?\"),\n",
    "    (\"ai\", \"I'm doing well, thanks!\"),\n",
    "    (\"human\", \"{user_input}\"),\n",
    "])\n",
    "prompt2 = ChatPromptTemplate.from_messages([\n",
    "    SystemMessagePromptTemplate.from_template(\"You are a helpful AI bot. Your name is {name}.\"),\n",
    "    HumanMessage(content=\"Hello, how are you doing?\"),\n",
    "    AIMessage(content=\"I'm doing well, thanks!\"),\n",
    "    HumanMessagePromptTemplate.from_template(\"{user_input}\"),\n",
    "])\n",
    "output_parse = StrOutputParser()\n",
    "# chain = prompt | llm |output_parse\n",
    "# for s in chain.stream({\"topic\":\"狗\"}):\n",
    "#     print(s,end=\"\",flush=True)\n",
    "chain = prompt2 | llm |output_parse\n",
    "for s in chain.stream({\"name\":\"EQP 專屬 AI Assiant\",\"user_input\":\"你的名子是什麼?\"}):\n",
    "    print(s,end=\"\",flush=True)\n"
   ]
  },
  {
   "cell_type": "code",
   "execution_count": null,
   "metadata": {},
   "outputs": [],
   "source": []
  }
 ],
 "metadata": {
  "kernelspec": {
   "display_name": "openai_env",
   "language": "python",
   "name": "openai_env"
  },
  "language_info": {
   "codemirror_mode": {
    "name": "ipython",
    "version": 3
   },
   "file_extension": ".py",
   "mimetype": "text/x-python",
   "name": "python",
   "nbconvert_exporter": "python",
   "pygments_lexer": "ipython3",
   "version": "3.12.4"
  }
 },
 "nbformat": 4,
 "nbformat_minor": 2
}
