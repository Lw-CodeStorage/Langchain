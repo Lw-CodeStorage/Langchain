{
 "cells": [
  {
   "cell_type": "code",
   "execution_count": 4,
   "metadata": {},
   "outputs": [],
   "source": [
    "import faiss\n",
    "import numpy as np\n",
    "from langchain.embeddings import HuggingFaceEmbeddings\n",
    "\n",
    "# 1. 加載 Hugging Face 模型\n",
    "model_name = \"sentence-transformers/all-MiniLM-L6-v2\"\n",
    "hf_embed = HuggingFaceEmbeddings(model_name=model_name)\n",
    "\n",
    "# 2. 定義要嵌入的文本資料\n",
    "documents = [\n",
    "    \"手機\",\n",
    "    \"電腦\",\n",
    "    \"其他\"\n",
    "]\n",
    "\n",
    "# 3. 將文本轉換成向量\n",
    "embeddings = [hf_embed.embed_query(doc) for doc in documents]\n",
    "\n",
    "# 4. 將列表轉換成 numpy array 格式，便於 Faiss 操作\n",
    "embedding_matrix = np.array(embeddings).astype(\"float32\")\n",
    "\n",
    "# 5. 建立 Faiss 索引（用 L2 距離來建立索引）\n",
    "dimension = embedding_matrix.shape[1]  # 向量的維度\n",
    "index = faiss.IndexFlatL2(dimension)    # 使用 L2 距離\n",
    "\n",
    "# 6. 將嵌入的向量加到 Faiss 索引中\n",
    "index.add(embedding_matrix)\n"
   ]
  },
  {
   "cell_type": "code",
   "execution_count": 2,
   "metadata": {},
   "outputs": [],
   "source": [
    "faiss.write_index(index, \"faiss_index.index\")"
   ]
  },
  {
   "cell_type": "code",
   "execution_count": 11,
   "metadata": {},
   "outputs": [
    {
     "name": "stdout",
     "output_type": "stream",
     "text": [
      "查詢文本: 我的螢幕目前售價多少\n",
      "最相似的文件索引: [[1]]\n",
      "相似度距離: [[0.9087755]]\n"
     ]
    }
   ],
   "source": [
    "# 7. 搜索範例，假設我們想查找與某一文本最相似的結果\n",
    "query = \"我的目前售價多少\"  # 定義一個查詢\n",
    "query_embedding = hf_embed.embed_query(query)  # 將查詢轉換成向量\n",
    "\n",
    "# 搜索最接近的 2 條記錄\n",
    "k = 1  # 搜索前 2 名\n",
    "query_vector = np.array([query_embedding]).astype(\"float32\")\n",
    "distances, indices = index.search(query_vector, k)\n",
    "\n",
    "# 8. 輸出結果\n",
    "print(f\"查詢文本: {query}\")\n",
    "print(f\"最相似的文件索引: {indices}\")\n",
    "print(f\"相似度距離: {distances}\")"
   ]
  },
  {
   "cell_type": "code",
   "execution_count": null,
   "metadata": {},
   "outputs": [],
   "source": []
  }
 ],
 "metadata": {
  "kernelspec": {
   "display_name": "openai_env",
   "language": "python",
   "name": "openai_env"
  },
  "language_info": {
   "codemirror_mode": {
    "name": "ipython",
    "version": 3
   },
   "file_extension": ".py",
   "mimetype": "text/x-python",
   "name": "python",
   "nbconvert_exporter": "python",
   "pygments_lexer": "ipython3",
   "version": "3.12.4"
  }
 },
 "nbformat": 4,
 "nbformat_minor": 2
}
